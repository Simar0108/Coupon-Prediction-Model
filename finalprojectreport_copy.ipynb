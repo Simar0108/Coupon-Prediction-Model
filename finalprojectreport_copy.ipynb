{
 "cells": [
  {
   "cell_type": "markdown",
   "id": "d343a3b6",
   "metadata": {},
   "source": [
    "## Project Report"
   ]
  },
  {
   "cell_type": "code",
   "execution_count": 1,
   "id": "eb2a9f92",
   "metadata": {},
   "outputs": [],
   "source": [
    "import numpy as np\n",
    "import pandas as pd\n",
    "import math\n",
    "import matplotlib.pyplot as plt\n",
    "from sklearn.model_selection import train_test_split\n",
    "from sklearn.model_selection import cross_val_score\n",
    "from sklearn.neighbors import KNeighborsClassifier\n",
    "from sklearn.metrics import accuracy_score\n",
    "from sklearn.metrics import confusion_matrix\n",
    "import seaborn as sns"
   ]
  },
  {
   "cell_type": "markdown",
   "id": "37a90d93",
   "metadata": {},
   "source": [
    "## Data Cleaning/ Preprocessing"
   ]
  },
  {
   "cell_type": "code",
   "execution_count": 2,
   "id": "21a549be",
   "metadata": {
    "scrolled": true
   },
   "outputs": [
    {
     "data": {
      "text/html": [
       "<div>\n",
       "<style scoped>\n",
       "    .dataframe tbody tr th:only-of-type {\n",
       "        vertical-align: middle;\n",
       "    }\n",
       "\n",
       "    .dataframe tbody tr th {\n",
       "        vertical-align: top;\n",
       "    }\n",
       "\n",
       "    .dataframe thead th {\n",
       "        text-align: right;\n",
       "    }\n",
       "</style>\n",
       "<table border=\"1\" class=\"dataframe\">\n",
       "  <thead>\n",
       "    <tr style=\"text-align: right;\">\n",
       "      <th></th>\n",
       "      <th>destination</th>\n",
       "      <th>passanger</th>\n",
       "      <th>weather</th>\n",
       "      <th>temperature</th>\n",
       "      <th>time</th>\n",
       "      <th>coupon</th>\n",
       "      <th>expiration</th>\n",
       "      <th>gender</th>\n",
       "      <th>age</th>\n",
       "      <th>maritalStatus</th>\n",
       "      <th>has_children</th>\n",
       "      <th>income</th>\n",
       "      <th>Bar</th>\n",
       "      <th>CoffeeHouse</th>\n",
       "      <th>CarryAway</th>\n",
       "      <th>RestaurantLessThan20</th>\n",
       "      <th>Restaurant20To50</th>\n",
       "      <th>toCoupon_GEQ5min</th>\n",
       "      <th>toCoupon_GEQ15min</th>\n",
       "      <th>toCoupon_GEQ25min</th>\n",
       "      <th>direction_same</th>\n",
       "      <th>direction_opp</th>\n",
       "      <th>Y</th>\n",
       "    </tr>\n",
       "  </thead>\n",
       "  <tbody>\n",
       "    <tr>\n",
       "      <th>0</th>\n",
       "      <td>No Urgent Place</td>\n",
       "      <td>Alone</td>\n",
       "      <td>Sunny</td>\n",
       "      <td>55</td>\n",
       "      <td>2PM</td>\n",
       "      <td>Restaurant(&lt;20)</td>\n",
       "      <td>1d</td>\n",
       "      <td>Female</td>\n",
       "      <td>21</td>\n",
       "      <td>Unmarried partner</td>\n",
       "      <td>1</td>\n",
       "      <td>$37500 - $49999</td>\n",
       "      <td>never</td>\n",
       "      <td>never</td>\n",
       "      <td>NaN</td>\n",
       "      <td>4~8</td>\n",
       "      <td>1~3</td>\n",
       "      <td>1</td>\n",
       "      <td>0</td>\n",
       "      <td>0</td>\n",
       "      <td>0</td>\n",
       "      <td>1</td>\n",
       "      <td>1</td>\n",
       "    </tr>\n",
       "    <tr>\n",
       "      <th>1</th>\n",
       "      <td>No Urgent Place</td>\n",
       "      <td>Friend(s)</td>\n",
       "      <td>Sunny</td>\n",
       "      <td>80</td>\n",
       "      <td>10AM</td>\n",
       "      <td>Coffee House</td>\n",
       "      <td>2h</td>\n",
       "      <td>Female</td>\n",
       "      <td>21</td>\n",
       "      <td>Unmarried partner</td>\n",
       "      <td>1</td>\n",
       "      <td>$37500 - $49999</td>\n",
       "      <td>never</td>\n",
       "      <td>never</td>\n",
       "      <td>NaN</td>\n",
       "      <td>4~8</td>\n",
       "      <td>1~3</td>\n",
       "      <td>1</td>\n",
       "      <td>0</td>\n",
       "      <td>0</td>\n",
       "      <td>0</td>\n",
       "      <td>1</td>\n",
       "      <td>0</td>\n",
       "    </tr>\n",
       "    <tr>\n",
       "      <th>2</th>\n",
       "      <td>No Urgent Place</td>\n",
       "      <td>Friend(s)</td>\n",
       "      <td>Sunny</td>\n",
       "      <td>80</td>\n",
       "      <td>10AM</td>\n",
       "      <td>Carry out &amp; Take away</td>\n",
       "      <td>2h</td>\n",
       "      <td>Female</td>\n",
       "      <td>21</td>\n",
       "      <td>Unmarried partner</td>\n",
       "      <td>1</td>\n",
       "      <td>$37500 - $49999</td>\n",
       "      <td>never</td>\n",
       "      <td>never</td>\n",
       "      <td>NaN</td>\n",
       "      <td>4~8</td>\n",
       "      <td>1~3</td>\n",
       "      <td>1</td>\n",
       "      <td>1</td>\n",
       "      <td>0</td>\n",
       "      <td>0</td>\n",
       "      <td>1</td>\n",
       "      <td>1</td>\n",
       "    </tr>\n",
       "    <tr>\n",
       "      <th>3</th>\n",
       "      <td>No Urgent Place</td>\n",
       "      <td>Friend(s)</td>\n",
       "      <td>Sunny</td>\n",
       "      <td>80</td>\n",
       "      <td>2PM</td>\n",
       "      <td>Coffee House</td>\n",
       "      <td>2h</td>\n",
       "      <td>Female</td>\n",
       "      <td>21</td>\n",
       "      <td>Unmarried partner</td>\n",
       "      <td>1</td>\n",
       "      <td>$37500 - $49999</td>\n",
       "      <td>never</td>\n",
       "      <td>never</td>\n",
       "      <td>NaN</td>\n",
       "      <td>4~8</td>\n",
       "      <td>1~3</td>\n",
       "      <td>1</td>\n",
       "      <td>1</td>\n",
       "      <td>0</td>\n",
       "      <td>0</td>\n",
       "      <td>1</td>\n",
       "      <td>0</td>\n",
       "    </tr>\n",
       "    <tr>\n",
       "      <th>4</th>\n",
       "      <td>No Urgent Place</td>\n",
       "      <td>Friend(s)</td>\n",
       "      <td>Sunny</td>\n",
       "      <td>80</td>\n",
       "      <td>2PM</td>\n",
       "      <td>Coffee House</td>\n",
       "      <td>1d</td>\n",
       "      <td>Female</td>\n",
       "      <td>21</td>\n",
       "      <td>Unmarried partner</td>\n",
       "      <td>1</td>\n",
       "      <td>$37500 - $49999</td>\n",
       "      <td>never</td>\n",
       "      <td>never</td>\n",
       "      <td>NaN</td>\n",
       "      <td>4~8</td>\n",
       "      <td>1~3</td>\n",
       "      <td>1</td>\n",
       "      <td>1</td>\n",
       "      <td>0</td>\n",
       "      <td>0</td>\n",
       "      <td>1</td>\n",
       "      <td>0</td>\n",
       "    </tr>\n",
       "  </tbody>\n",
       "</table>\n",
       "</div>"
      ],
      "text/plain": [
       "       destination  passanger weather  temperature  time  \\\n",
       "0  No Urgent Place      Alone   Sunny           55   2PM   \n",
       "1  No Urgent Place  Friend(s)   Sunny           80  10AM   \n",
       "2  No Urgent Place  Friend(s)   Sunny           80  10AM   \n",
       "3  No Urgent Place  Friend(s)   Sunny           80   2PM   \n",
       "4  No Urgent Place  Friend(s)   Sunny           80   2PM   \n",
       "\n",
       "                  coupon expiration  gender age      maritalStatus  \\\n",
       "0        Restaurant(<20)         1d  Female  21  Unmarried partner   \n",
       "1           Coffee House         2h  Female  21  Unmarried partner   \n",
       "2  Carry out & Take away         2h  Female  21  Unmarried partner   \n",
       "3           Coffee House         2h  Female  21  Unmarried partner   \n",
       "4           Coffee House         1d  Female  21  Unmarried partner   \n",
       "\n",
       "   has_children           income    Bar CoffeeHouse CarryAway  \\\n",
       "0             1  $37500 - $49999  never       never       NaN   \n",
       "1             1  $37500 - $49999  never       never       NaN   \n",
       "2             1  $37500 - $49999  never       never       NaN   \n",
       "3             1  $37500 - $49999  never       never       NaN   \n",
       "4             1  $37500 - $49999  never       never       NaN   \n",
       "\n",
       "  RestaurantLessThan20 Restaurant20To50  toCoupon_GEQ5min  toCoupon_GEQ15min  \\\n",
       "0                  4~8              1~3                 1                  0   \n",
       "1                  4~8              1~3                 1                  0   \n",
       "2                  4~8              1~3                 1                  1   \n",
       "3                  4~8              1~3                 1                  1   \n",
       "4                  4~8              1~3                 1                  1   \n",
       "\n",
       "   toCoupon_GEQ25min  direction_same  direction_opp  Y  \n",
       "0                  0               0              1  1  \n",
       "1                  0               0              1  0  \n",
       "2                  0               0              1  1  \n",
       "3                  0               0              1  0  \n",
       "4                  0               0              1  0  "
      ]
     },
     "execution_count": 2,
     "metadata": {},
     "output_type": "execute_result"
    }
   ],
   "source": [
    "# delete unnecessary columns\n",
    "df = pd.read_csv(\"in-vehicle-coupon-recommendation.csv\")\n",
    "pd.set_option('display.max_columns', None)\n",
    "del df['occupation']\n",
    "del df['education']\n",
    "del df['car']\n",
    "df.head()"
   ]
  },
  {
   "cell_type": "code",
   "execution_count": 3,
   "id": "5a115c90",
   "metadata": {},
   "outputs": [],
   "source": [
    "# Bar Attribute: changing NaN to median of whatever data we have\n",
    "Bar = df[\"Bar\"].tolist()\n",
    "\n",
    "frequency = df.Bar.value_counts()\n",
    "frequency\n",
    "frequency_list = list(frequency)\n",
    "\n",
    "middle = sum(frequency_list) / 2\n",
    "middle\n",
    " # median : less than 1  catagory\n",
    "df['Bar'] = df['Bar'].fillna(\"less1\")"
   ]
  },
  {
   "cell_type": "code",
   "execution_count": 4,
   "id": "3bee0033",
   "metadata": {},
   "outputs": [],
   "source": [
    "# CarryAway Attribute: changing NaN to median of whatever data we have\n",
    "CarryAway = df[\"CarryAway\"].tolist()\n",
    "\n",
    "frequency = df.CarryAway.value_counts()\n",
    "frequency\n",
    "frequency_list = [153,1856,4672,4258,1594]\n",
    "middle = sum(frequency_list) / 2\n",
    "middle\n",
    " # median : 1-3 catagory\n",
    "df['CarryAway'] = df['CarryAway'].fillna(\"1~3\")"
   ]
  },
  {
   "cell_type": "code",
   "execution_count": 5,
   "id": "45be3f16",
   "metadata": {},
   "outputs": [],
   "source": [
    "# RestaurantLessThan20 Attribute: changing NaN to median of whatever data we have\n",
    "RestaurantLessThan20 = df[\"RestaurantLessThan20\"].tolist()\n",
    "\n",
    "frequency = df.RestaurantLessThan20.value_counts()\n",
    "frequency\n",
    "frequency_list = [220,2093,5376,3580,1285]\n",
    "middle = sum(frequency_list) / 2\n",
    "middle\n",
    " # median : 1-3 catagory\n",
    "df['RestaurantLessThan20'] = df['RestaurantLessThan20'].fillna(\"1~3\")"
   ]
  },
  {
   "cell_type": "code",
   "execution_count": 6,
   "id": "edab47b4",
   "metadata": {},
   "outputs": [],
   "source": [
    " # CoffeeHouse Attribute: changing NaN to median of whatever data we have\n",
    "CoffeeHouse  = df[\"CoffeeHouse\"].tolist()\n",
    "\n",
    "frequency = df.CoffeeHouse.value_counts()\n",
    "frequency\n",
    "frequency_list = [2962, 3385, 3225, 1784, 1111]\n",
    "\n",
    "middle = sum(frequency_list) / 2\n",
    "middle\n",
    " # median : less than 1  catagory\n",
    "df['CoffeeHouse'] = df['CoffeeHouse'].fillna(\"less1\")"
   ]
  },
  {
   "cell_type": "code",
   "execution_count": 7,
   "id": "bf5da4d5",
   "metadata": {},
   "outputs": [],
   "source": [
    "# Restaurant20To50 Attribute: changing NaN to median of whatever data we have\n",
    "Restaurant20To50 = df[\"Restaurant20To50\"].tolist()\n",
    "\n",
    "frequency = df.Restaurant20To50.value_counts()\n",
    "frequency\n",
    "\n",
    "frequency_list = [2136,6077,3290,728,264]\n",
    "\n",
    "middle = sum(frequency_list) / 2\n",
    "middle\n",
    " # median : less1 catagory\n",
    "df['Restaurant20To50'] = df['Restaurant20To50'].fillna(\"less1\")"
   ]
  },
  {
   "cell_type": "code",
   "execution_count": 8,
   "id": "598542f2",
   "metadata": {
    "scrolled": true
   },
   "outputs": [
    {
     "data": {
      "text/html": [
       "<div>\n",
       "<style scoped>\n",
       "    .dataframe tbody tr th:only-of-type {\n",
       "        vertical-align: middle;\n",
       "    }\n",
       "\n",
       "    .dataframe tbody tr th {\n",
       "        vertical-align: top;\n",
       "    }\n",
       "\n",
       "    .dataframe thead th {\n",
       "        text-align: right;\n",
       "    }\n",
       "</style>\n",
       "<table border=\"1\" class=\"dataframe\">\n",
       "  <thead>\n",
       "    <tr style=\"text-align: right;\">\n",
       "      <th></th>\n",
       "      <th>destination</th>\n",
       "      <th>passanger</th>\n",
       "      <th>weather</th>\n",
       "      <th>temperature</th>\n",
       "      <th>time</th>\n",
       "      <th>coupon</th>\n",
       "      <th>expiration</th>\n",
       "      <th>gender</th>\n",
       "      <th>age</th>\n",
       "      <th>maritalStatus</th>\n",
       "      <th>has_children</th>\n",
       "      <th>income</th>\n",
       "      <th>Bar</th>\n",
       "      <th>CoffeeHouse</th>\n",
       "      <th>CarryAway</th>\n",
       "      <th>RestaurantLessThan20</th>\n",
       "      <th>Restaurant20To50</th>\n",
       "      <th>toCoupon_GEQ5min</th>\n",
       "      <th>toCoupon_GEQ15min</th>\n",
       "      <th>toCoupon_GEQ25min</th>\n",
       "      <th>direction_same</th>\n",
       "      <th>direction_opp</th>\n",
       "      <th>Y</th>\n",
       "    </tr>\n",
       "  </thead>\n",
       "  <tbody>\n",
       "    <tr>\n",
       "      <th>0</th>\n",
       "      <td>1</td>\n",
       "      <td>1</td>\n",
       "      <td>1</td>\n",
       "      <td>55</td>\n",
       "      <td>3</td>\n",
       "      <td>4</td>\n",
       "      <td>1</td>\n",
       "      <td>1</td>\n",
       "      <td>2</td>\n",
       "      <td>3</td>\n",
       "      <td>1</td>\n",
       "      <td>4</td>\n",
       "      <td>1</td>\n",
       "      <td>1</td>\n",
       "      <td>3</td>\n",
       "      <td>4</td>\n",
       "      <td>3</td>\n",
       "      <td>1</td>\n",
       "      <td>0</td>\n",
       "      <td>0</td>\n",
       "      <td>0</td>\n",
       "      <td>1</td>\n",
       "      <td>1</td>\n",
       "    </tr>\n",
       "    <tr>\n",
       "      <th>1</th>\n",
       "      <td>1</td>\n",
       "      <td>3</td>\n",
       "      <td>1</td>\n",
       "      <td>80</td>\n",
       "      <td>2</td>\n",
       "      <td>2</td>\n",
       "      <td>2</td>\n",
       "      <td>1</td>\n",
       "      <td>2</td>\n",
       "      <td>3</td>\n",
       "      <td>1</td>\n",
       "      <td>4</td>\n",
       "      <td>1</td>\n",
       "      <td>1</td>\n",
       "      <td>3</td>\n",
       "      <td>4</td>\n",
       "      <td>3</td>\n",
       "      <td>1</td>\n",
       "      <td>0</td>\n",
       "      <td>0</td>\n",
       "      <td>0</td>\n",
       "      <td>1</td>\n",
       "      <td>0</td>\n",
       "    </tr>\n",
       "    <tr>\n",
       "      <th>2</th>\n",
       "      <td>1</td>\n",
       "      <td>3</td>\n",
       "      <td>1</td>\n",
       "      <td>80</td>\n",
       "      <td>2</td>\n",
       "      <td>3</td>\n",
       "      <td>2</td>\n",
       "      <td>1</td>\n",
       "      <td>2</td>\n",
       "      <td>3</td>\n",
       "      <td>1</td>\n",
       "      <td>4</td>\n",
       "      <td>1</td>\n",
       "      <td>1</td>\n",
       "      <td>3</td>\n",
       "      <td>4</td>\n",
       "      <td>3</td>\n",
       "      <td>1</td>\n",
       "      <td>1</td>\n",
       "      <td>0</td>\n",
       "      <td>0</td>\n",
       "      <td>1</td>\n",
       "      <td>1</td>\n",
       "    </tr>\n",
       "    <tr>\n",
       "      <th>3</th>\n",
       "      <td>1</td>\n",
       "      <td>3</td>\n",
       "      <td>1</td>\n",
       "      <td>80</td>\n",
       "      <td>3</td>\n",
       "      <td>2</td>\n",
       "      <td>2</td>\n",
       "      <td>1</td>\n",
       "      <td>2</td>\n",
       "      <td>3</td>\n",
       "      <td>1</td>\n",
       "      <td>4</td>\n",
       "      <td>1</td>\n",
       "      <td>1</td>\n",
       "      <td>3</td>\n",
       "      <td>4</td>\n",
       "      <td>3</td>\n",
       "      <td>1</td>\n",
       "      <td>1</td>\n",
       "      <td>0</td>\n",
       "      <td>0</td>\n",
       "      <td>1</td>\n",
       "      <td>0</td>\n",
       "    </tr>\n",
       "    <tr>\n",
       "      <th>4</th>\n",
       "      <td>1</td>\n",
       "      <td>3</td>\n",
       "      <td>1</td>\n",
       "      <td>80</td>\n",
       "      <td>3</td>\n",
       "      <td>2</td>\n",
       "      <td>1</td>\n",
       "      <td>1</td>\n",
       "      <td>2</td>\n",
       "      <td>3</td>\n",
       "      <td>1</td>\n",
       "      <td>4</td>\n",
       "      <td>1</td>\n",
       "      <td>1</td>\n",
       "      <td>3</td>\n",
       "      <td>4</td>\n",
       "      <td>3</td>\n",
       "      <td>1</td>\n",
       "      <td>1</td>\n",
       "      <td>0</td>\n",
       "      <td>0</td>\n",
       "      <td>1</td>\n",
       "      <td>0</td>\n",
       "    </tr>\n",
       "  </tbody>\n",
       "</table>\n",
       "</div>"
      ],
      "text/plain": [
       "   destination  passanger  weather  temperature  time  coupon  expiration  \\\n",
       "0            1          1        1           55     3       4           1   \n",
       "1            1          3        1           80     2       2           2   \n",
       "2            1          3        1           80     2       3           2   \n",
       "3            1          3        1           80     3       2           2   \n",
       "4            1          3        1           80     3       2           1   \n",
       "\n",
       "   gender  age  maritalStatus  has_children  income  Bar  CoffeeHouse  \\\n",
       "0       1    2              3             1       4    1            1   \n",
       "1       1    2              3             1       4    1            1   \n",
       "2       1    2              3             1       4    1            1   \n",
       "3       1    2              3             1       4    1            1   \n",
       "4       1    2              3             1       4    1            1   \n",
       "\n",
       "   CarryAway  RestaurantLessThan20  Restaurant20To50  toCoupon_GEQ5min  \\\n",
       "0          3                     4                 3                 1   \n",
       "1          3                     4                 3                 1   \n",
       "2          3                     4                 3                 1   \n",
       "3          3                     4                 3                 1   \n",
       "4          3                     4                 3                 1   \n",
       "\n",
       "   toCoupon_GEQ15min  toCoupon_GEQ25min  direction_same  direction_opp  Y  \n",
       "0                  0                  0               0              1  1  \n",
       "1                  0                  0               0              1  0  \n",
       "2                  1                  0               0              1  1  \n",
       "3                  1                  0               0              1  0  \n",
       "4                  1                  0               0              1  0  "
      ]
     },
     "execution_count": 8,
     "metadata": {},
     "output_type": "execute_result"
    }
   ],
   "source": [
    "# change categorical values to numbers \n",
    "\n",
    "newData = df\n",
    "\n",
    "#destination\n",
    "newData['destination'] = newData['destination'].replace(['No Urgent Place'], 1)\n",
    "newData['destination'] = newData['destination'].replace(['Home'], 2)\n",
    "newData['destination'] = newData['destination'].replace(['Work'], 3)\n",
    "\n",
    "#passanger\n",
    "newData['passanger'] = newData['passanger'].replace(['Alone'], 1)\n",
    "newData['passanger'] = newData['passanger'].replace(['Kid(s)'], 2)\n",
    "newData['passanger'] = newData['passanger'].replace(['Friend(s)'], 3)\n",
    "newData['passanger'] = newData['passanger'].replace(['Partner'], 4)\n",
    "\n",
    "#weather\n",
    "newData['weather'] = newData['weather'].replace(['Sunny'], 1)\n",
    "newData['weather'] = newData['weather'].replace(['Rainy'], 2)\n",
    "newData['weather'] = newData['weather'].replace(['Snowy'], 3)\n",
    "\n",
    "#time\n",
    "newData['time'] = newData['time'].replace(['7AM'], 1)\n",
    "newData['time'] = newData['time'].replace(['10AM'], 2)\n",
    "newData['time'] = newData['time'].replace(['2PM'], 3)\n",
    "newData['time'] = newData['time'].replace(['6PM'], 4)\n",
    "newData['time'] = newData['time'].replace(['10PM'], 5)\n",
    "\n",
    "#coupon\n",
    "newData['coupon'] = newData['coupon'].replace(['Bar'], 1)\n",
    "newData['coupon'] = newData['coupon'].replace(['Coffee House'], 2)\n",
    "newData['coupon'] = newData['coupon'].replace(['Carry out & Take away'], 3)\n",
    "newData['coupon'] = newData['coupon'].replace(['Restaurant(<20)'], 4)\n",
    "newData['coupon'] = newData['coupon'].replace(['Restaurant(20-50)'], 5)\n",
    "\n",
    "#gender\n",
    "newData['gender'] = newData['gender'].replace(['Female'], 1)\n",
    "newData['gender'] = newData['gender'].replace(['Male'], 0)\n",
    "\n",
    "#expiration\n",
    "newData['expiration'] = newData['expiration'].replace(['1d'], 1)\n",
    "newData['expiration'] = newData['expiration'].replace(['2h'], 2)\n",
    "\n",
    "#maritalStatus\n",
    "newData['maritalStatus'] = newData['maritalStatus'].replace(['Married partner'], 1)\n",
    "newData['maritalStatus'] = newData['maritalStatus'].replace(['Single'], 2)\n",
    "newData['maritalStatus'] = newData['maritalStatus'].replace(['Unmarried partner'], 3)\n",
    "newData['maritalStatus'] = newData['maritalStatus'].replace(['Divorced'], 4)\n",
    "newData['maritalStatus'] = newData['maritalStatus'].replace(['Widowed'], 5)\n",
    "\n",
    "#income\n",
    "newData['income'] = newData['income'].replace(['Less than $12500'], 1)\n",
    "newData['income'] = newData['income'].replace(['$12500 - $24999'], 2)\n",
    "newData['income'] = newData['income'].replace(['$25000 - $37499'], 3)\n",
    "newData['income'] = newData['income'].replace(['$37500 - $49999'], 4)\n",
    "newData['income'] = newData['income'].replace(['$50000 - $62499'], 5)\n",
    "newData['income'] = newData['income'].replace(['$62500 - $74999'], 6)\n",
    "newData['income'] = newData['income'].replace(['$75000 - $87499'], 7)\n",
    "newData['income'] = newData['income'].replace(['$87500 - $99999'], 8)\n",
    "newData['income'] = newData['income'].replace(['$100000 or More'], 9)\n",
    "\n",
    "#Bar\n",
    "newData['Bar'] = newData['Bar'].replace(['never'], 1)\n",
    "newData['Bar'] = newData['Bar'].replace(['less1'], 2)\n",
    "newData['Bar'] = newData['Bar'].replace(['1~3'], 3)\n",
    "newData['Bar'] = newData['Bar'].replace(['4~8'], 4)\n",
    "newData['Bar'] = newData['Bar'].replace(['gt8'], 5)\n",
    "\n",
    "#CoffeeHouse\n",
    "newData['CoffeeHouse'] = newData['CoffeeHouse'].replace(['never'], 1)\n",
    "newData['CoffeeHouse'] = newData['CoffeeHouse'].replace(['less1'], 2)\n",
    "newData['CoffeeHouse'] = newData['CoffeeHouse'].replace(['1~3'], 3)\n",
    "newData['CoffeeHouse'] = newData['CoffeeHouse'].replace(['4~8'], 4)\n",
    "newData['CoffeeHouse'] = newData['CoffeeHouse'].replace(['gt8'], 5)\n",
    "\n",
    "#CarryAway\n",
    "newData['CarryAway'] = newData['CarryAway'].replace(['never'], 1)\n",
    "newData['CarryAway'] = newData['CarryAway'].replace(['less1'], 2)\n",
    "newData['CarryAway'] = newData['CarryAway'].replace(['1~3'], 3)\n",
    "newData['CarryAway'] = newData['CarryAway'].replace(['4~8'], 4)\n",
    "newData['CarryAway'] = newData['CarryAway'].replace(['gt8'], 5)\n",
    "\n",
    "#RestaurantLessThan20\n",
    "newData['RestaurantLessThan20'] = newData['RestaurantLessThan20'].replace(['never'], 1)\n",
    "newData['RestaurantLessThan20'] = newData['RestaurantLessThan20'].replace(['less1'], 2)\n",
    "newData['RestaurantLessThan20'] = newData['RestaurantLessThan20'].replace(['1~3'], 3)\n",
    "newData['RestaurantLessThan20'] = newData['RestaurantLessThan20'].replace(['4~8'], 4)\n",
    "newData['RestaurantLessThan20'] = newData['RestaurantLessThan20'].replace(['gt8'], 5)\n",
    "\n",
    "#Restaurant20To50\n",
    "newData['Restaurant20To50'] = newData['Restaurant20To50'].replace(['never'], 1)\n",
    "newData['Restaurant20To50'] = newData['Restaurant20To50'].replace(['less1'], 2)\n",
    "newData['Restaurant20To50'] = newData['Restaurant20To50'].replace(['1~3'], 3)\n",
    "newData['Restaurant20To50'] = newData['Restaurant20To50'].replace(['4~8'], 4)\n",
    "newData['Restaurant20To50'] = newData['Restaurant20To50'].replace(['gt8'], 5)\n",
    "\n",
    "#age\n",
    "newData['age'] = newData['age'].replace(['below21'], 1)\n",
    "newData['age'] = newData['age'].replace(['21'], 2)\n",
    "newData['age'] = newData['age'].replace(['26'], 3)\n",
    "newData['age'] = newData['age'].replace(['31'], 4)\n",
    "newData['age'] = newData['age'].replace(['36'], 5)\n",
    "newData['age'] = newData['age'].replace(['41'], 6)\n",
    "newData['age'] = newData['age'].replace(['46'], 7)\n",
    "newData['age'] = newData['age'].replace(['50plus'], 8)\n",
    "\n",
    "newData.head()"
   ]
  },
  {
   "cell_type": "markdown",
   "id": "4bcb0b21",
   "metadata": {},
   "source": [
    "To clean the data, we first deleted columns that we deemed uneccessary for the model, which were education, occupation, and car. Then, To deal with the NaNs in the CarryAway, Bar, CoffeeHouse, Restaurant kess than $20 and Restaurant $20-50 catagories, we decided to replace them with the median catagory, as the categories were able to be ordered in this way: never, less than 1, 1-3, 4-8, greater that 8. For columns that had catagorical data, we replaced them with numerical values in order to be able to run the KNN model. "
   ]
  },
  {
   "cell_type": "markdown",
   "id": "94b7fc6f",
   "metadata": {},
   "source": [
    "## EDA"
   ]
  },
  {
   "cell_type": "code",
   "execution_count": 9,
   "id": "5926b872",
   "metadata": {
    "scrolled": false
   },
   "outputs": [
    {
     "data": {
      "text/plain": [
       "array([<AxesSubplot:ylabel='0'>, <AxesSubplot:ylabel='1'>], dtype=object)"
      ]
     },
     "execution_count": 9,
     "metadata": {},
     "output_type": "execute_result"
    },
    {
     "data": {
      "image/png": "[encoded data removed]",
      "text/plain": [
       "<Figure size 432x288 with 2 Axes>"
      ]
     },
     "metadata": {},
     "output_type": "display_data"
    }
   ],
   "source": [
    "income_yes = pd.crosstab(newData.income, newData.Y)\n",
    "income_yes.plot.pie(autopct=\"%.2f\", subplots=True)"
   ]
  },
  {
   "cell_type": "code",
   "execution_count": 10,
   "id": "54816dee",
   "metadata": {
    "scrolled": true
   },
   "outputs": [
    {
     "data": {
      "text/plain": [
       "\"In order to see how income plays a role on if the subject accepts the coupon, we can group together the counts of the 'income' and the 'Y' columns in order to see which incomes accept/reject more. From the pie chart, we can see that in the True graph (1), the highest percentage was given to group 3 @ 16.56%. This means that the group having an income of $25000 - $37499 had the highest acceptance rate.\""
      ]
     },
     "execution_count": 10,
     "metadata": {},
     "output_type": "execute_result"
    }
   ],
   "source": [
    "\"In order to see how income plays a role on if the subject accepts the coupon, we can group together the counts of the \\'income' and the \\'Y' columns in order to see which incomes accept/reject more. From the pie chart, we can see that in the True graph (1), the highest percentage was given to group 3 @ 16.56%. This means that the group having an income of $25000 - $37499 had the highest acceptance rate.\""
   ]
  },
  {
   "cell_type": "code",
   "execution_count": 11,
   "id": "de51e988",
   "metadata": {},
   "outputs": [
    {
     "data": {
      "text/plain": [
       "array([<AxesSubplot:ylabel='0'>, <AxesSubplot:ylabel='1'>], dtype=object)"
      ]
     },
     "execution_count": 11,
     "metadata": {},
     "output_type": "execute_result"
    },
    {
     "data": {
      "image/png": "[encoded data removed]",
      "text/plain": [
       "<Figure size 432x288 with 2 Axes>"
      ]
     },
     "metadata": {},
     "output_type": "display_data"
    }
   ],
   "source": [
    "coupon_yes = pd.crosstab(newData.coupon, newData.Y)\n",
    "coupon_yes.plot.pie(autopct=\"%.2f\", subplots=True)"
   ]
  },
  {
   "cell_type": "code",
   "execution_count": 12,
   "id": "de31abf5",
   "metadata": {
    "scrolled": true
   },
   "outputs": [
    {
     "data": {
      "text/plain": [
       "'This pie chart represnts how many subjects took the coupon based on what type of coupon it was. We can see that in the True graph (1), the highest percentage was given group 2 @ 27.67%. This means that the Coffee House coupon was the most popular, followed by Restaurants<$20.'"
      ]
     },
     "execution_count": 12,
     "metadata": {},
     "output_type": "execute_result"
    }
   ],
   "source": [
    "\"This pie chart represnts how many subjects took the coupon based on what type of coupon it was. We can see that in the True graph (1), the highest percentage was given group 2 @ 27.67%. This means that the Coffee House coupon was the most popular, followed by Restaurants<$20.\""
   ]
  },
  {
   "cell_type": "markdown",
   "id": "4ead6af8",
   "metadata": {},
   "source": [
    "## K Means Clustering"
   ]
  },
  {
   "cell_type": "code",
   "execution_count": 13,
   "id": "01e38aaf",
   "metadata": {},
   "outputs": [
    {
     "name": "stdout",
     "output_type": "stream",
     "text": [
      "The maximum number of neighbor is 113\n"
     ]
    },
    {
     "data": {
      "image/png": "[encoded data removed]",
      "text/plain": [
       "<Figure size 432x288 with 1 Axes>"
      ]
     },
     "metadata": {
      "needs_background": "light"
     },
     "output_type": "display_data"
    }
   ],
   "source": [
    "# independent features\n",
    "\n",
    "X = newData[['destination', 'passanger', 'weather', 'temperature', 'time', 'coupon', 'expiration', 'gender', 'age', 'maritalStatus', 'has_children', 'income', 'Bar', 'CoffeeHouse', 'CarryAway', 'RestaurantLessThan20', 'Restaurant20To50', 'toCoupon_GEQ5min', 'toCoupon_GEQ15min', 'toCoupon_GEQ25min', 'direction_same', 'direction_opp']]\n",
    "\n",
    "# dependent feature\n",
    "Y = newData['Y']\n",
    "\n",
    "#finding K\n",
    "\n",
    "k_values = range(1, 113)\n",
    "accuracies = []\n",
    "\n",
    "X_train, X_test, Y_train, Y_test = train_test_split(X, Y , test_size=0.25, shuffle=True)\n",
    "\n",
    "print('The maximum number of neighbor is 113')\n",
    "\n",
    "# Calculate model performance for each K\n",
    "\n",
    "for k in k_values:\n",
    "    knn = KNeighborsClassifier(n_neighbors=k)\n",
    "    try:\n",
    "        cv_performance = cross_val_score(knn, X_train, Y_train, cv=5, scoring='accuracy', error_score='raise')\n",
    "        accuracies.append(cv_performance.mean())\n",
    "    except Exception as e:\n",
    "        print(f\"Fit failed for k={k}. Exception: {str(e)}\")\n",
    "        \n",
    "        \n",
    "#elbow curve \n",
    "\n",
    "plt.plot(k_values, accuracies)\n",
    "plt.xlabel('K')\n",
    "plt.ylabel('Accuracy')\n",
    "\n",
    "max_accuracy = max(accuracies)\n",
    "max_index = accuracies.index(max_accuracy)\n",
    "best_k = k_values[max_index]\n",
    "\n",
    "plt.axvline(x=best_k, color='r', linestyle='--', label='Best K')\n",
    "plt.text(best_k + 0.5, max_accuracy, f'K = {best_k}', color='r')\n",
    "plt.title('KNN Accuracy')\n",
    "plt.show()\n"
   ]
  },
  {
   "cell_type": "code",
   "execution_count": 17,
   "id": "0d44ef39",
   "metadata": {},
   "outputs": [
    {
     "name": "stdout",
     "output_type": "stream",
     "text": [
      "The highest accuracy is 0.6619358000787953 achieved at k = 20\n"
     ]
    }
   ],
   "source": [
    "print(f\"The highest accuracy is {max_accuracy} achieved at k = {best_k}\")"
   ]
  },
  {
   "cell_type": "code",
   "execution_count": 18,
   "id": "3a28f238",
   "metadata": {},
   "outputs": [
    {
     "name": "stdout",
     "output_type": "stream",
     "text": [
      "Accuracy: 0.6818038473667613\n"
     ]
    }
   ],
   "source": [
    "# train the model using the entire dataset\n",
    "\n",
    "# Training the K-NN model on the Training set\n",
    "knn = KNeighborsClassifier(n_neighbors = 22, metric = 'minkowski', p = 2)\n",
    "knn.fit(X_train, Y_train)\n",
    "\n",
    "# Predicting the Test set results\n",
    "Y_pred = knn.predict(X_test)\n",
    "\n",
    "# accuracy of results\n",
    "accuracy = accuracy_score(Y_test, Y_pred)\n",
    "print(f\"Accuracy: {accuracy}\")\n"
   ]
  },
  {
   "cell_type": "code",
   "execution_count": 19,
   "id": "c88d3c54",
   "metadata": {
    "scrolled": true
   },
   "outputs": [
    {
     "data": {
      "image/png": "[encoded data removed]",
      "text/plain": [
       "<Figure size 432x288 with 2 Axes>"
      ]
     },
     "metadata": {
      "needs_background": "light"
     },
     "output_type": "display_data"
    }
   ],
   "source": [
    "# confusion matrix\n",
    "confusion_mat = confusion_matrix(Y_test, Y_pred)\n",
    "sns.heatmap(confusion_mat, annot=True, fmt=\"d\", cmap=\"Blues\")\n",
    "plt.xlabel(\"Predicted\")\n",
    "plt.ylabel(\"Actual\")\n",
    "plt.title(\"Confusion Matrix\")\n",
    "plt.show()"
   ]
  },
  {
   "cell_type": "markdown",
   "id": "ec828223",
   "metadata": {},
   "source": [
    "To perform the k-means-model, it was necessary to first find the value for K which we would use. In order to do this, we created an elbow curve, using a range of 1 to 113, which was the square root of the number of observations of our model, and scoring each model created by its accuracy. We then found the model with the highest accuracy, and used that model for classification. We then created a confusion matrix to determine the number of true positives and negatives, and false positives and negatives."
   ]
  }
 ],
 "metadata": {
  "kernelspec": {
   "display_name": "Python 3 (ipykernel)",
   "language": "python",
   "name": "python3"
  },
  "language_info": {
   "codemirror_mode": {
    "name": "ipython",
    "version": 3
   },
   "file_extension": ".py",
   "mimetype": "text/x-python",
   "name": "python",
   "nbconvert_exporter": "python",
   "pygments_lexer": "ipython3",
   "version": "3.9.12"
  }
 },
 "nbformat": 4,
 "nbformat_minor": 5
}
